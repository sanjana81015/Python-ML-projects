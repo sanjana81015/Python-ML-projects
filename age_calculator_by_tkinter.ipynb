{
  "cells": [
    {
      "cell_type": "markdown",
      "metadata": {
        "id": "view-in-github",
        "colab_type": "text"
      },
      "source": [
        "<a href=\"https://colab.research.google.com/github/sanjana81015/projects/blob/main/age_calculator_by_tkinter.ipynb\" target=\"_parent\"><img src=\"https://colab.research.google.com/assets/colab-badge.svg\" alt=\"Open In Colab\"/></a>"
      ]
    },
    {
      "cell_type": "code",
      "execution_count": null,
      "metadata": {
        "id": "XvM0VOcuvI_f"
      },
      "outputs": [],
      "source": [
        "from tkinter import *\n",
        "from datetime import date\n",
        "\n",
        "win=Tk()\n",
        "win.maxsize(width=300,height=300)\n",
        "win.minsize(width=300,height=300)\n",
        "win.title('Age Calculator')\n",
        "\n",
        "name=Label(win,text='Name : ')\n",
        "name.grid(row=2,column=8,padx=10,pady=10)\n",
        "\n",
        "yearl=Label(win,text='Year : ')\n",
        "yearl.grid(row=3,column=8,padx=10,pady=10)\n",
        "\n",
        "monthl=Label(win,text='Month : ')\n",
        "monthl.grid(row=4,column=8,padx=10,pady=10)\n",
        "\n",
        "dayl=Label(win,text='Date : ')\n",
        "dayl.grid(row=5,column=8,padx=10,pady=10)\n",
        "\n",
        "def func():\n",
        "    current=date.today()\n",
        "    dob=date(a.get(),b.get(),c.get())\n",
        "    age=current.year-dob.year\n",
        "    if dob.month > current.month or (dob.month == current.month and dob.day > current.day):\n",
        "        age -= 1\n",
        "    show=Label(win,text=f\"{var.get()}'s age is {age}\")\n",
        "    show.grid(row=11,column=10)\n",
        "\n",
        "var=StringVar()\n",
        "nameEn=Entry(win,textvariable=var)\n",
        "nameEn.grid(row=2,column=10,padx=10,pady=10)\n",
        "\n",
        "a=IntVar()\n",
        "yearEn=Entry(win,textvariable=a)\n",
        "yearEn.grid(row=3,column=10,padx=10,pady=10)\n",
        "\n",
        "b=IntVar()\n",
        "monthEn=Entry(win,textvariable=b)\n",
        "monthEn.grid(row=4,column=10,padx=10,pady=10)\n",
        "\n",
        "c=IntVar()\n",
        "dateEn=Entry(win,textvariable=c)\n",
        "dateEn.grid(row=5,column=10,padx=10,pady=10)\n",
        "\n",
        "btn=Button(win,text='Submit',command=func,bg='green')\n",
        "btn.grid(row=9,column=10,padx=6,pady=9)\n",
        "\n",
        "win.mainloop()"
      ]
    }
  ],
  "metadata": {
    "kernelspec": {
      "display_name": "Python 3",
      "language": "python",
      "name": "python3"
    },
    "language_info": {
      "codemirror_mode": {
        "name": "ipython",
        "version": 3
      },
      "file_extension": ".py",
      "mimetype": "text/x-python",
      "name": "python",
      "nbconvert_exporter": "python",
      "pygments_lexer": "ipython3",
      "version": "3.10.7"
    },
    "orig_nbformat": 4,
    "colab": {
      "provenance": [],
      "include_colab_link": true
    }
  },
  "nbformat": 4,
  "nbformat_minor": 0
}