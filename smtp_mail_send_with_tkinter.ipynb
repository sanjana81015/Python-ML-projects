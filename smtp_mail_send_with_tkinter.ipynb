{
 "cells": [
  {
   "cell_type": "code",
   "execution_count": 1,
   "metadata": {},
   "outputs": [
    {
     "name": "stdout",
     "output_type": "stream",
     "text": [
      "Login successful\n",
      "Message sent\n"
     ]
    }
   ],
   "source": [
    "from tkinter import *\n",
    "import smtplib\n",
    "\n",
    "win=Tk()\n",
    "win.title('Email Sender App')\n",
    "win.minsize(width=400,height=400)\n",
    "win.maxsize(width=400,height=400)\n",
    "\n",
    "def sendmsg():\n",
    "  sendermail=sendmail.get()\n",
    "  senderpass=sendpass.get()\n",
    "  receivermail=receivemail.get()\n",
    "  msgmail=msg.get()\n",
    " \n",
    "  s=smtplib.SMTP('smtp.gmail.com',587)\n",
    "  s.starttls()\n",
    "  s.login(sendermail,senderpass)\n",
    "  print(\"Login successful\")\n",
    "  s.sendmail(sendermail,receivermail,msgmail)\n",
    "  print(\"Message sent\")\n",
    "  \n",
    "  sender_add_entry.delete(0,END)\n",
    "  sender_pass_entry.delete(0,END)\n",
    "  receiver_add_entry.delete(0,END)\n",
    "  msg_entry.delete(0,END)\n",
    "\n",
    "#heading\n",
    "\n",
    "lbl1=Label(win,text='Email Sender App',bg='yellow',width=400,height=5)\n",
    "lbl1.pack()\n",
    "\n",
    "#sender mail\n",
    "lbl2=Label(win,text=\"Sender's Email : \",background='light grey')\n",
    "lbl2.place(x=15,y=85)\n",
    "\n",
    "sendmail=StringVar()\n",
    "sender_add_entry=Entry(win,textvariable=sendmail)\n",
    "sender_add_entry.place(x=15,y=120)\n",
    "\n",
    "#sender password\n",
    "lbl3=Label(win,text=\"Sender's Password : \",background='light grey')\n",
    "lbl3.place(x=15,y=150)\n",
    "\n",
    "sendpass=StringVar()\n",
    "sender_pass_entry=Entry(win,textvariable=sendpass)\n",
    "sender_pass_entry.place(x=15,y=180)\n",
    "\n",
    "#receiver mail\n",
    "lbl4=Label(win,text=\"Recipient Email : \",background='light grey')\n",
    "lbl4.place(x=15,y=200)\n",
    "\n",
    "receivemail=StringVar()\n",
    "receiver_add_entry=Entry(win,textvariable=receivemail)\n",
    "receiver_add_entry.place(x=15,y=230)\n",
    "\n",
    "#msg\n",
    "lbl5=Label(win,text=\"Message : \",background='light grey')\n",
    "lbl5.place(x=15,y=260)\n",
    "\n",
    "msg=StringVar()\n",
    "msg_entry=Entry(win,textvariable=msg)\n",
    "msg_entry.place(x=15,y=290)\n",
    "\n",
    "\n",
    "\n",
    "\n",
    "\n",
    "\n",
    "\n",
    "\n",
    "\n",
    "bt= Button(win,text='Send Message',background='light grey',command=sendmsg,width=20,height=2)\n",
    "bt.place(x=15,y=350)\n",
    "win.mainloop()\n",
    "\n"
   ]
  },
  {
   "cell_type": "code",
   "execution_count": null,
   "metadata": {},
   "outputs": [],
   "source": []
  }
 ],
 "metadata": {
  "kernelspec": {
   "display_name": "Python 3",
   "language": "python",
   "name": "python3"
  },
  "language_info": {
   "codemirror_mode": {
    "name": "ipython",
    "version": 3
   },
   "file_extension": ".py",
   "mimetype": "text/x-python",
   "name": "python",
   "nbconvert_exporter": "python",
   "pygments_lexer": "ipython3",
   "version": "3.10.7"
  },
  "orig_nbformat": 4
 },
 "nbformat": 4,
 "nbformat_minor": 2
}
