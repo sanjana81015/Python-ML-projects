{
 "cells": [
  {
   "attachments": {},
   "cell_type": "markdown",
   "metadata": {},
   "source": [
    "1.BUTTON AND CHECK BUTTON "
   ]
  },
  {
   "cell_type": "code",
   "execution_count": 8,
   "metadata": {},
   "outputs": [],
   "source": [
    "from  tkinter import *\n",
    "win=Tk()\n",
    "win.title('tk')\n",
    "win.maxsize(width=300,height=200)\n",
    "win.minsize(width=300,height=200)\n",
    "\n",
    "lbl=Label(win,text='This is Label Frame')\n",
    "lbl.place(x=10,y=10)\n",
    "\n",
    "\n",
    "\n",
    "chkbt1=IntVar()\n",
    "chkbt2=IntVar()\n",
    "\n",
    "cb1=Checkbutton(win,text='Checkbutton 1' ,variable=chkbt1,onvalue=1,offvalue=0)\n",
    "cb1.place(x=70,y=90)\n",
    "\n",
    "cb2=Checkbutton(win,text='Checkbutton 2' ,variable=chkbt2,onvalue=1,offvalue=0)\n",
    "cb2.place(x=70,y=120)\n",
    "\n",
    "btn1=Button(win,text='Button 1')\n",
    "btn1.place(x=70,y=50)\n",
    "\n",
    "btn2=Button(win,text='Button 2')\n",
    "btn2.place(x=150,y=50)\n",
    "\n",
    "\n",
    "win.mainloop()"
   ]
  },
  {
   "attachments": {},
   "cell_type": "markdown",
   "metadata": {},
   "source": [
    "2 LIST BOX"
   ]
  },
  {
   "cell_type": "code",
   "execution_count": 23,
   "metadata": {},
   "outputs": [],
   "source": [
    "from  tkinter import *\n",
    "from tkinter import messagebox\n",
    "win=Tk()\n",
    "win.title('tk')\n",
    "win.maxsize(width=300,height=200)\n",
    "win.minsize(width=300,height=200)\n",
    "\n",
    "lbl=Label(win,text='FOOD ITEMS')\n",
    "lbl.place(x=120)\n",
    "\n",
    "lst=Listbox(win,width=20,background='grey',foreground='yellow')\n",
    "items=['nachos','sandwich','burger','pizza','burrito']\n",
    "for i in items:\n",
    " lst.insert(END,i)\n",
    "\n",
    "lst.place(x=90,y=20)\n",
    "win.mainloop()    "
   ]
  },
  {
   "attachments": {},
   "cell_type": "markdown",
   "metadata": {},
   "source": [
    "3.ONE LABEL FOUR CHECK BOX BUTTON"
   ]
  },
  {
   "cell_type": "code",
   "execution_count": 27,
   "metadata": {},
   "outputs": [],
   "source": [
    "from  tkinter import *\n",
    "win=Tk()\n",
    "win.title('tk')\n",
    "win.maxsize(width=300,height=200)\n",
    "win.minsize(width=300,height=200)\n",
    "\n",
    "lbl=Label(win,text='select programming language of your choice')\n",
    "lbl.place(x=10,y=10)\n",
    "\n",
    "\n",
    "\n",
    "chkbt1=IntVar()\n",
    "chkbt2=IntVar()\n",
    "chkbt3=IntVar()\n",
    "chkbt4=IntVar()\n",
    "\n",
    "cb1=Checkbutton(win,text='Java' ,variable=chkbt1,onvalue=1,offvalue=0)\n",
    "cb1.place(x=70,y=50)\n",
    "\n",
    "cb2=Checkbutton(win,text='C++' ,variable=chkbt2,onvalue=1,offvalue=0)\n",
    "cb2.place(x=70,y=70)\n",
    "\n",
    "cb2=Checkbutton(win,text='Python' ,variable=chkbt3,onvalue=1,offvalue=0)\n",
    "cb2.place(x=70,y=90)\n",
    "\n",
    "cb2=Checkbutton(win,text='C' ,variable=chkbt4,onvalue=1,offvalue=0)\n",
    "cb2.place(x=70,y=110)\n",
    "\n",
    "win.mainloop()"
   ]
  },
  {
   "attachments": {},
   "cell_type": "markdown",
   "metadata": {},
   "source": [
    "4.option menu"
   ]
  },
  {
   "cell_type": "code",
   "execution_count": 54,
   "metadata": {},
   "outputs": [],
   "source": [
    "from  tkinter import *\n",
    "from  tkinter import ttk\n",
    "win=Tk()\n",
    "win.title('vinayak app')\n",
    "win.maxsize(width=300,height=200)\n",
    "win.minsize(width=300,height=200)\n",
    "\n",
    "lbl=Label(win,text='choose the week  day here')\n",
    "lbl.place(x=10,y=10)\n",
    "cb=ttk.Combobox(win,width=25)\n",
    "cb['values']=['Sunday','Monday','Tuesday','Wednesday','Thursday','Friday','Saturday']\n",
    "cb['state']='readonly'\n",
    "cb.configure(background='red')\n",
    "cb.current(0)\n",
    "cb.place(x=30,y=40)\n",
    "\n",
    "win.mainloop()"
   ]
  },
  {
   "attachments": {},
   "cell_type": "markdown",
   "metadata": {},
   "source": [
    "5.label frame"
   ]
  },
  {
   "cell_type": "code",
   "execution_count": 87,
   "metadata": {},
   "outputs": [],
   "source": [
    "import tkinter as tk\n",
    "\n",
    "win=tk.Tk()\n",
    "win.title('tk')\n",
    "win.maxsize(width=300,height=200)\n",
    "win.minsize(width=300,height=200)\n",
    "\n",
    "lf=tk.LabelFrame(win,text='This is Label Frame',fg='blue')\n",
    "\n",
    "\n",
    "lbl1=tk.Label(lf,text='1.This is a Label')\n",
    "lbl1.pack()\n",
    "lbl2=tk.Label(lf,text='2.This is another Label')\n",
    "lbl2.pack()\n",
    "lbl3=tk.Label(lf,text='3.we can add multiple widgets on it')\n",
    "lbl3.pack()\n",
    "\n",
    "lf.pack()\n",
    "\n",
    "win.mainloop()"
   ]
  },
  {
   "cell_type": "code",
   "execution_count": null,
   "metadata": {},
   "outputs": [],
   "source": []
  }
 ],
 "metadata": {
  "kernelspec": {
   "display_name": "Python 3",
   "language": "python",
   "name": "python3"
  },
  "language_info": {
   "codemirror_mode": {
    "name": "ipython",
    "version": 3
   },
   "file_extension": ".py",
   "mimetype": "text/x-python",
   "name": "python",
   "nbconvert_exporter": "python",
   "pygments_lexer": "ipython3",
   "version": "3.10.7"
  },
  "orig_nbformat": 4
 },
 "nbformat": 4,
 "nbformat_minor": 2
}
